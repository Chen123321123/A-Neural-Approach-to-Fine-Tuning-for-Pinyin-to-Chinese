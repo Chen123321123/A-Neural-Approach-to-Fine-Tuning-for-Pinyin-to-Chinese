{
 "cells": [
  {
   "cell_type": "code",
   "execution_count": 1,
   "metadata": {},
   "outputs": [
    {
     "name": "stderr",
     "output_type": "stream",
     "text": [
      "/Users/royshi/Desktop/SFU/CMPT 413/Spring 2025/final project/venv/lib/python3.10/site-packages/tqdm/auto.py:21: TqdmWarning: IProgress not found. Please update jupyter and ipywidgets. See https://ipywidgets.readthedocs.io/en/stable/user_install.html\n",
      "  from .autonotebook import tqdm as notebook_tqdm\n"
     ]
    }
   ],
   "source": [
    "import torch\n",
    "import pandas as pd\n",
    "from evaluate import load\n",
    "from transformers import MT5ForConditionalGeneration, MT5Tokenizer\n",
    "from tqdm import tqdm"
   ]
  },
  {
   "cell_type": "code",
   "execution_count": 2,
   "metadata": {},
   "outputs": [],
   "source": [
    "bleu = load(\"bleu\")\n",
    "chrf = load(\"chrf\")\n",
    "rouge = load(\"rouge\")"
   ]
  },
  {
   "cell_type": "markdown",
   "metadata": {},
   "source": [
    "# Instruction to download our pretrained models\n",
    "\n",
    "Visit public link to SFU Vault: https://vault.sfu.ca/index.php/s/TyWOLiIK7AZicmf\n",
    "\n",
    "It contain 4 compressed pre-trained models for download\n",
    "\n",
    "Download, unzip and move to ./fine_tuned_models for organization"
   ]
  },
  {
   "cell_type": "markdown",
   "metadata": {},
   "source": [
    "### Uncomment to select pretuned model here and dataset to be evaluated"
   ]
  },
  {
   "cell_type": "code",
   "execution_count": null,
   "metadata": {},
   "outputs": [],
   "source": [
    "model_name = \"./fine_tuned_models/mt5-large\"\n",
    "# model_name = \"./fine_tuned_models/mt5-base\"\n",
    "# model_name = \"./fine_tuned_models/mt5-small\"\n",
    "# model_name = \"./fine_tuned_models/mengzi-t5-base\"\n",
    "\n",
    "model = MT5ForConditionalGeneration.from_pretrained(model_name)\n",
    "tokenizer = MT5Tokenizer.from_pretrained(model_name)\n",
    "\n",
    "device = \"cuda\" if torch.cuda.is_available() else \"cpu\"\n",
    "model.to(device)\n",
    "\n",
    "# eval_csv_path = \"./data/inputs/standard/eval.csv\"\n",
    "eval_csv_path = \"./data/inputs/typo/eval.csv\"\n",
    "\n",
    "eval_data = pd.read_csv(eval_csv_path)"
   ]
  },
  {
   "cell_type": "code",
   "execution_count": 37,
   "metadata": {},
   "outputs": [
    {
     "name": "stderr",
     "output_type": "stream",
     "text": [
      "  0%|          | 0/54 [00:00<?, ?it/s]Asking to truncate to max_length but no maximum length is provided and the model has no predefined maximum length. Default to no truncation.\n",
      "  2%|▏         | 1/54 [01:56<1:42:37, 116.18s/it]"
     ]
    },
    {
     "name": "stdout",
     "output_type": "stream",
     "text": [
      "Pinyin: ta ix huan na ta de tong xu kai an xiao\n",
      "Chinese: 他拒绝拿他的同意开案小\n",
      "\n",
      "\n"
     ]
    },
    {
     "name": "stderr",
     "output_type": "stream",
     "text": [
      "  4%|▎         | 2/54 [04:15<1:52:19, 129.61s/it]"
     ]
    },
    {
     "name": "stdout",
     "output_type": "stream",
     "text": [
      "Pinyin: r guo yuo ji hui wo jiang qu kn na bu dian ying\n",
      "Chinese: 如果遇机会我将去看那部电影\n",
      "\n",
      "\n"
     ]
    },
    {
     "name": "stderr",
     "output_type": "stream",
     "text": [
      "  6%|▌         | 3/54 [07:57<2:25:57, 171.72s/it]"
     ]
    },
    {
     "name": "stdout",
     "output_type": "stream",
     "text": [
      "Pinyin: cong zhe ge jiao fu lai akn hua zhng de nv i mian ai wei xiao\n",
      "Chinese: 从这个教父来慷慨捐献的女子面爱为小\n",
      "\n",
      "\n"
     ]
    },
    {
     "name": "stderr",
     "output_type": "stream",
     "text": [
      "  7%|▋         | 4/54 [08:44<1:42:15, 122.71s/it]"
     ]
    },
    {
     "name": "stdout",
     "output_type": "stream",
     "text": [
      "Pinyin: ta song wo de ji ia pin ehn xiao er qie b zhi qian\n",
      "Chinese: 他送我的酒精品喝小而且比之前\n",
      "\n",
      "\n"
     ]
    },
    {
     "name": "stderr",
     "output_type": "stream",
     "text": [
      "  9%|▉         | 5/54 [11:31<1:53:12, 138.62s/it]"
     ]
    },
    {
     "name": "stdout",
     "output_type": "stream",
     "text": [
      "Pinyin: zhe ben hu shi ta yi qian xie de h ben de ku chong\n",
      "Chinese: 这本书是他以前写的黑板的枯燥\n",
      "\n",
      "\n"
     ]
    },
    {
     "name": "stderr",
     "output_type": "stream",
     "text": [
      " 11%|█         | 6/54 [12:54<1:35:54, 119.89s/it]"
     ]
    },
    {
     "name": "stdout",
     "output_type": "stream",
     "text": [
      "Pinyin: wo men zhen de chu yu kun ign mei ren zhao gu ying er\n",
      "Chinese: 我们真得出于困扰没人照古英而\n",
      "\n",
      "\n"
     ]
    },
    {
     "name": "stderr",
     "output_type": "stream",
     "text": [
      " 13%|█▎        | 7/54 [14:12<1:22:58, 105.92s/it]"
     ]
    },
    {
     "name": "stdout",
     "output_type": "stream",
     "text": [
      "Pinyin: ta shi huo ed yi xue jiao ke hu\n",
      "Chinese: 她是护士一学教可护\n",
      "\n",
      "\n"
     ]
    },
    {
     "name": "stderr",
     "output_type": "stream",
     "text": [
      " 15%|█▍        | 8/54 [14:54<1:05:46, 85.79s/it] "
     ]
    },
    {
     "name": "stdout",
     "output_type": "stream",
     "text": [
      "Pinyin: ow domg yi dian er de yu\n",
      "Chinese: 呕呕一点儿的呕\n",
      "\n",
      "\n"
     ]
    },
    {
     "name": "stderr",
     "output_type": "stream",
     "text": [
      " 17%|█▋        | 9/54 [15:22<50:40, 67.57s/it]  "
     ]
    },
    {
     "name": "stdout",
     "output_type": "stream",
     "text": [
      "Pinyin: ci l shi yi zhnog zi ran xian xiang\n",
      "Chinese: 丑陋是一桩自然现象\n",
      "\n",
      "\n"
     ]
    },
    {
     "name": "stderr",
     "output_type": "stream",
     "text": [
      " 19%|█▊        | 10/54 [15:57<42:11, 57.53s/it]"
     ]
    },
    {
     "name": "stdout",
     "output_type": "stream",
     "text": [
      "Pinyin: i shi nian dai shi chao duan qun shi qi\n",
      "Chinese: 五十年代是大规模人群时期\n",
      "\n",
      "\n"
     ]
    },
    {
     "name": "stderr",
     "output_type": "stream",
     "text": [
      " 20%|██        | 11/54 [16:26<35:05, 48.97s/it]"
     ]
    },
    {
     "name": "stdout",
     "output_type": "stream",
     "text": [
      "Pinyin: ji qi sheng chan yi ing dai ti le whou gog lao zu\n",
      "Chinese: 机器生产已中断带起了腐朽老鼠\n",
      "\n",
      "\n"
     ]
    },
    {
     "name": "stderr",
     "output_type": "stream",
     "text": [
      " 22%|██▏       | 12/54 [17:08<32:38, 46.62s/it]"
     ]
    },
    {
     "name": "stdout",
     "output_type": "stream",
     "text": [
      "Pinyin: lao zi suang fang zhk jian ucn zai da liang mao dun\n",
      "Chinese: 老子钻破箱间乌云在大量毛掸\n",
      "\n",
      "\n"
     ]
    },
    {
     "name": "stderr",
     "output_type": "stream",
     "text": [
      " 24%|██▍       | 13/54 [17:30<26:51, 39.30s/it]"
     ]
    },
    {
     "name": "stdout",
     "output_type": "stream",
     "text": [
      "Pinyin: kony pa wo de fang wei gan hen cha yin di wo ong yi mi lu\n",
      "Chinese: 抠爬我的房间感觉很差劲地我拥一米路\n",
      "\n",
      "\n"
     ]
    },
    {
     "name": "stderr",
     "output_type": "stream",
     "text": [
      " 26%|██▌       | 14/54 [20:27<53:52, 80.81s/it]"
     ]
    },
    {
     "name": "stdout",
     "output_type": "stream",
     "text": [
      "Pinyin: cao shang hza man le lu zhu\n",
      "Chinese: 草上挤满了路柱\n",
      "\n",
      "\n"
     ]
    },
    {
     "name": "stderr",
     "output_type": "stream",
     "text": [
      " 28%|██▊       | 15/54 [22:03<55:35, 85.53s/it]"
     ]
    },
    {
     "name": "stdout",
     "output_type": "stream",
     "text": [
      "Pinyin: cai zheng bu yuan ze shnag fqn dui ahe xie ti yj\n",
      "Chinese: 财政不原则怂恿诽谤对恶性提议\n",
      "\n",
      "\n"
     ]
    },
    {
     "name": "stderr",
     "output_type": "stream",
     "text": [
      " 30%|██▉       | 16/54 [22:42<45:09, 71.29s/it]"
     ]
    },
    {
     "name": "stdout",
     "output_type": "stream",
     "text": [
      "Pinyin: zhneg fu de tong gao yi shi wei ma xkang jie jeu ba gin wen ti de yi bu\n",
      "Chinese: 赞助者的通告已是为马克斯解决巴金问题的第一步\n",
      "\n",
      "\n"
     ]
    },
    {
     "name": "stderr",
     "output_type": "stream",
     "text": [
      " 31%|███▏      | 17/54 [23:22<38:10, 61.90s/it]"
     ]
    },
    {
     "name": "stdout",
     "output_type": "stream",
     "text": [
      "Pinyin: wo hzeng ixe yi feng zheng zhong qi shi re hui xin\n",
      "Chinese: 我更加依依风筝中其实热回心\n",
      "\n",
      "\n"
     ]
    },
    {
     "name": "stderr",
     "output_type": "stream",
     "text": [
      " 33%|███▎      | 18/54 [25:30<49:11, 81.98s/it]"
     ]
    },
    {
     "name": "stdout",
     "output_type": "stream",
     "text": [
      "Pinyin: yi ming fei tu zai jie shang hzi azo shi duan yin ren hzu mu qi yu ei tu ez qiang jie yin ng\n",
      "Chinese: 一名废徒在街上挥洒时断引人呼救其与恶徒扼强击咽喉\n",
      "\n",
      "\n"
     ]
    },
    {
     "name": "stderr",
     "output_type": "stream",
     "text": [
      " 35%|███▌      | 19/54 [29:26<1:14:44, 128.12s/it]"
     ]
    },
    {
     "name": "stdout",
     "output_type": "stream",
     "text": [
      "Pinyin: xiang cun de tian ye li wian m znog heng\n",
      "Chinese: 乡村的田野里微微葱凝固\n",
      "\n",
      "\n"
     ]
    },
    {
     "name": "stderr",
     "output_type": "stream",
     "text": [
      " 37%|███▋      | 20/54 [31:15<1:09:22, 122.41s/it]"
     ]
    },
    {
     "name": "stdout",
     "output_type": "stream",
     "text": [
      "Pinyin: iq ping di shi qi jn yun zai iy ge ping mian hsagn huo li bian pai ban\n",
      "Chinese: 一平地时其均匀在一个平面黑砂或砾边布局\n",
      "\n",
      "\n"
     ]
    },
    {
     "name": "stderr",
     "output_type": "stream",
     "text": [
      " 39%|███▉      | 21/54 [32:06<55:33, 101.02s/it]  "
     ]
    },
    {
     "name": "stdout",
     "output_type": "stream",
     "text": [
      "Pinyin: so de wai z fu yao lai le\n",
      "Chinese: 斯的外祖父来了\n",
      "\n",
      "\n"
     ]
    },
    {
     "name": "stderr",
     "output_type": "stream",
     "text": [
      " 41%|████      | 22/54 [32:29<41:24, 77.64s/it] "
     ]
    },
    {
     "name": "stdout",
     "output_type": "stream",
     "text": [
      "Pinyin: gai tiao kuan eni rong ru ixa\n",
      "Chinese: 该条款难以入账\n",
      "\n",
      "\n"
     ]
    },
    {
     "name": "stderr",
     "output_type": "stream",
     "text": [
      " 43%|████▎     | 23/54 [33:08<34:01, 65.84s/it]"
     ]
    },
    {
     "name": "stdout",
     "output_type": "stream",
     "text": [
      "Pinyin: xian cheng li hze ouy bai er ba shi li\n",
      "Chinese: 先程力耗油百而把时力\n",
      "\n",
      "\n"
     ]
    },
    {
     "name": "stderr",
     "output_type": "stream",
     "text": [
      " 44%|████▍     | 24/54 [33:56<30:19, 60.65s/it]"
     ]
    },
    {
     "name": "stdout",
     "output_type": "stream",
     "text": [
      "Pinyin: ze hzong qi che ke yi zai ia shen chang du fan wei nei diao tou\n",
      "Chinese: 蒸汽汽车可以在亚硝酸泛微内掉头\n",
      "\n",
      "\n"
     ]
    },
    {
     "name": "stderr",
     "output_type": "stream",
     "text": [
      " 46%|████▋     | 25/54 [34:23<24:25, 50.54s/it]"
     ]
    },
    {
     "name": "stdout",
     "output_type": "stream",
     "text": [
      "Pinyin: wo men ian mian de na liang qi che tu ran zhuan ru uzo iban de cioa lu shang qu le\n",
      "Chinese: 我们眼前的那辆汽车突然转入迂回的车路上了\n",
      "\n",
      "\n"
     ]
    },
    {
     "name": "stderr",
     "output_type": "stream",
     "text": [
      " 48%|████▊     | 26/54 [34:56<21:08, 45.31s/it]"
     ]
    },
    {
     "name": "stdout",
     "output_type": "stream",
     "text": [
      "Pinyin: yan  zai kong zhong lve guo\n",
      "Chinese: 烟在空中掠过\n",
      "\n",
      "\n"
     ]
    },
    {
     "name": "stderr",
     "output_type": "stream",
     "text": [
      " 50%|█████     | 27/54 [35:55<22:14, 49.41s/it]"
     ]
    },
    {
     "name": "stdout",
     "output_type": "stream",
     "text": [
      "Pinyin: wo kao uf mu uf yang mian qiang guo huo\n",
      "Chinese: 我靠浮木浮羊面墙过火\n",
      "\n",
      "\n"
     ]
    },
    {
     "name": "stderr",
     "output_type": "stream",
     "text": [
      " 52%|█████▏    | 28/54 [36:21<18:22, 42.39s/it]"
     ]
    },
    {
     "name": "stdout",
     "output_type": "stream",
     "text": [
      "Pinyin: fu bai de yua yni chuan bu fu ba huo fu xiu de gdn yuan\n",
      "Chinese: 腐烂的油烟船不腐烂或腐朽的天然气\n",
      "\n",
      "\n"
     ]
    },
    {
     "name": "stderr",
     "output_type": "stream",
     "text": [
      " 54%|█████▎    | 29/54 [36:54<16:29, 39.57s/it]"
     ]
    },
    {
     "name": "stdout",
     "output_type": "stream",
     "text": [
      "Pinyin: tong guo guan dao ba re shu cong guo lu shu song aod sa re qi l\n",
      "Chinese: 通过管道把热水从过路输送氧酸热气\n",
      "\n",
      "\n"
     ]
    },
    {
     "name": "stderr",
     "output_type": "stream",
     "text": [
      " 56%|█████▌    | 30/54 [39:14<27:47, 69.50s/it]"
     ]
    },
    {
     "name": "stdout",
     "output_type": "stream",
     "text": [
      "Pinyin: kina xu ji ge xiao shi ta odu zia ai sheng atn qi xi wan negn cong ta mu qin na nong dian qian\n",
      "Chinese: 近五个小时他呕刺爱生安气细忘脑从他母亲那弄点钱\n",
      "\n",
      "\n"
     ]
    },
    {
     "name": "stderr",
     "output_type": "stream",
     "text": [
      " 57%|█████▋    | 31/54 [40:03<24:17, 63.37s/it]"
     ]
    },
    {
     "name": "stdout",
     "output_type": "stream",
     "text": [
      "Pinyin: fei ji yi mei xiao shi 900 gong li de su du rei ixng\n",
      "Chinese: 飞机每小时900公里的速度雷霆\n",
      "\n",
      "\n"
     ]
    },
    {
     "name": "stderr",
     "output_type": "stream",
     "text": [
      " 59%|█████▉    | 32/54 [41:02<22:49, 62.26s/it]"
     ]
    },
    {
     "name": "stdout",
     "output_type": "stream",
     "text": [
      "Pinyin: a ke ba wa hong hai de yi ge ahi wan za xi nai ban dao ji sha te a lq bo xi bi bu zhi jian ta cajng ai yi lai zai zohng doh ju you zhong ya de zhan lve xing\n",
      "Chinese: 埃克把瓦红海的一个海湾杂耍难搬到几沙特阿拉伯斯比布之间他操纵起来在造船具有重要的战略性\n",
      "\n",
      "\n"
     ]
    },
    {
     "name": "stderr",
     "output_type": "stream",
     "text": [
      " 61%|██████    | 33/54 [41:29<18:02, 51.57s/it]"
     ]
    },
    {
     "name": "stdout",
     "output_type": "stream",
     "text": [
      "Pinyin: ta ub dan bu cheng re fan sr zhi wu qi ci\n",
      "Chinese: 他呕但不成热反酸之物其词\n",
      "\n",
      "\n"
     ]
    },
    {
     "name": "stderr",
     "output_type": "stream",
     "text": [
      " 63%|██████▎   | 34/54 [42:05<15:41, 47.07s/it]"
     ]
    },
    {
     "name": "stdout",
     "output_type": "stream",
     "text": [
      "Pinyin: ci sh bian zuan zhe bi xu jnig yu gei cj yu xia ding yi de ji qoa\n",
      "Chinese: 词诗编纂者必须简语给词语下定义的句子\n",
      "\n",
      "\n"
     ]
    },
    {
     "name": "stderr",
     "output_type": "stream",
     "text": [
      " 65%|██████▍   | 35/54 [42:47<14:24, 45.50s/it]"
     ]
    },
    {
     "name": "stdout",
     "output_type": "stream",
     "text": [
      "Pinyin: xioa huo shan kou yi zhogn di bu ping tan dw zhi cheng yuan xing de hou shan bao fa hou xing heng de shehg man shhi de di wa di\n",
      "Chinese: 峡谷山口一纵横地不平坦dw之成圆形的湖山坝发湖形恒的沙漠绵绵的地瓦地\n",
      "\n",
      "\n"
     ]
    },
    {
     "name": "stderr",
     "output_type": "stream",
     "text": [
      " 67%|██████▋   | 36/54 [43:09<11:29, 38.31s/it]"
     ]
    },
    {
     "name": "stdout",
     "output_type": "stream",
     "text": [
      "Pinyin: ni ying gai dui ado g di zou zou yi zeng guag jian shi\n",
      "Chinese: 你应该对傲慢地走走以增高见识\n",
      "\n",
      "\n"
     ]
    },
    {
     "name": "stderr",
     "output_type": "stream",
     "text": [
      " 69%|██████▊   | 37/54 [43:31<09:29, 33.51s/it]"
     ]
    },
    {
     "name": "stdout",
     "output_type": "stream",
     "text": [
      "Pinyin: ub ding dai ing ci de yong yu eai ci\n",
      "Chinese: 呕丁带阴涕的用于恶涕\n",
      "\n",
      "\n"
     ]
    },
    {
     "name": "stderr",
     "output_type": "stream",
     "text": [
      " 70%|███████   | 38/54 [44:07<09:05, 34.12s/it]"
     ]
    },
    {
     "name": "stdout",
     "output_type": "stream",
     "text": [
      "Pinyin: wo dui dian noa e wei xui bao yang hen zai hagn\n",
      "Chinese: 我对电量恶劣保养很在乎\n",
      "\n",
      "\n"
     ]
    },
    {
     "name": "stderr",
     "output_type": "stream",
     "text": [
      " 72%|███████▏  | 39/54 [44:42<08:38, 34.55s/it]"
     ]
    },
    {
     "name": "stdout",
     "output_type": "stream",
     "text": [
      "Pinyin: ta w xing cha mei you yi shi dao cu zia re wei xian\n",
      "Chinese: 他无行查没有意识到粗刺热危险\n",
      "\n",
      "\n"
     ]
    },
    {
     "name": "stderr",
     "output_type": "stream",
     "text": [
      " 74%|███████▍  | 40/54 [45:11<07:41, 32.94s/it]"
     ]
    },
    {
     "name": "stdout",
     "output_type": "stream",
     "text": [
      "Pinyin: shi you shu chu uo jia u hi dogn jie shi you hu chu jia ge kan zhang\n",
      "Chinese: 石有树出鱼夹鱼鳍洞结石有湖出鸡盖看长\n",
      "\n",
      "\n"
     ]
    },
    {
     "name": "stderr",
     "output_type": "stream",
     "text": [
      " 76%|███████▌  | 41/54 [45:58<07:59, 36.90s/it]"
     ]
    },
    {
     "name": "stdout",
     "output_type": "stream",
     "text": [
      "Pinyin: ri ben id ue shi g nei li de uo ji dn zui jin r ben de da du shi yi bei wu ran\n",
      "Chinese: 原子电流是核内的铀基氮最近原子的大小是原子无原\n",
      "\n",
      "\n"
     ]
    },
    {
     "name": "stderr",
     "output_type": "stream",
     "text": [
      " 78%|███████▊  | 42/54 [46:29<07:02, 35.24s/it]"
     ]
    },
    {
     "name": "stdout",
     "output_type": "stream",
     "text": [
      "Pinyin: you dng fa chu rou he de liag guahg\n",
      "Chinese: 有毒发出热烈的雷吼\n",
      "\n",
      "\n"
     ]
    },
    {
     "name": "stderr",
     "output_type": "stream",
     "text": [
      " 80%|███████▉  | 43/54 [48:40<11:43, 63.94s/it]"
     ]
    },
    {
     "name": "stdout",
     "output_type": "stream",
     "text": [
      "Pinyin: zhe gu zhang shh yue lai wie yin qi zhu yi\n",
      "Chinese: 这幅长耸约来惟引起注意\n",
      "\n",
      "\n"
     ]
    },
    {
     "name": "stderr",
     "output_type": "stream",
     "text": [
      " 81%|████████▏ | 44/54 [53:34<22:09, 132.90s/it]"
     ]
    },
    {
     "name": "stdout",
     "output_type": "stream",
     "text": [
      "Pinyin: hsi jia yi jian hui sheng cang cu chh li diao bu zu wei qu\n",
      "Chinese: 黑家一间会盛藏粗茶里掉不止为去\n",
      "\n",
      "\n"
     ]
    },
    {
     "name": "stderr",
     "output_type": "stream",
     "text": [
      " 83%|████████▎ | 45/54 [58:23<26:59, 179.93s/it]"
     ]
    },
    {
     "name": "stdout",
     "output_type": "stream",
     "text": [
      "Pinyin: wo zai qiang shsng dinv le yi ge tu ing ran hou aai shagn mian hua le yi zhang xiao tu pian\n",
      "Chinese: 我在墙上钉了一个图印然后凹三角面画了一张小图片\n",
      "\n",
      "\n"
     ]
    },
    {
     "name": "stderr",
     "output_type": "stream",
     "text": [
      " 85%|████████▌ | 46/54 [58:54<18:01, 135.13s/it]"
     ]
    },
    {
     "name": "stdout",
     "output_type": "stream",
     "text": [
      "Pinyin: ta zbang de jiao ruo mei li\n",
      "Chinese: 他颤抖得叫嚷没礼\n",
      "\n",
      "\n"
     ]
    },
    {
     "name": "stderr",
     "output_type": "stream",
     "text": [
      " 87%|████████▋ | 47/54 [59:18<11:53, 101.89s/it]"
     ]
    },
    {
     "name": "stdout",
     "output_type": "stream",
     "text": [
      "Pinyin: at ba ri ji suo azi shang ceng chou ti li\n",
      "Chinese: 躲把日记所遗上层抽体里\n",
      "\n",
      "\n"
     ]
    },
    {
     "name": "stderr",
     "output_type": "stream",
     "text": [
      " 89%|████████▉ | 48/54 [59:44<07:54, 79.09s/it] "
     ]
    },
    {
     "name": "stdout",
     "output_type": "stream",
     "text": [
      "Pinyin: so men jint chnog feb tao lun jue ding qian wang niu jin\n",
      "Chinese: 人们紧绷脑袋讨论决定迁往纽约\n",
      "\n",
      "\n"
     ]
    },
    {
     "name": "stderr",
     "output_type": "stream",
     "text": [
      " 91%|█████████ | 49/54 [1:00:07<05:11, 62.23s/it]"
     ]
    },
    {
     "name": "stdout",
     "output_type": "stream",
     "text": [
      "Pinyin: iqng wu zai dheng qi de shi hou qu baj ru ci zhong yao de shi qing\n",
      "Chinese: 烟雾在等起的时候去摆如此重要的事情\n",
      "\n",
      "\n"
     ]
    },
    {
     "name": "stderr",
     "output_type": "stream",
     "text": [
      " 93%|█████████▎| 50/54 [1:00:28<03:19, 49.82s/it]"
     ]
    },
    {
     "name": "stdout",
     "output_type": "stream",
     "text": [
      "Pinyin: gong zhu bei na ge ke wu de mo shu shi tou tuo dai dao l yi ge huang a shsmg\n",
      "Chinese: 公爵被那个动物的模述时头托带到L一个黄阿斯玛\n",
      "\n",
      "\n"
     ]
    },
    {
     "name": "stderr",
     "output_type": "stream",
     "text": [
      " 94%|█████████▍| 51/54 [1:00:54<02:07, 42.64s/it]"
     ]
    },
    {
     "name": "stdout",
     "output_type": "stream",
     "text": [
      "Pinyin: wo mne dou xi gan yu suo shou de jiao yang\n",
      "Chinese: 我满都喜感与所受的教养\n",
      "\n",
      "\n"
     ]
    },
    {
     "name": "stderr",
     "output_type": "stream",
     "text": [
      " 96%|█████████▋| 52/54 [1:01:11<01:10, 35.04s/it]"
     ]
    },
    {
     "name": "stdout",
     "output_type": "stream",
     "text": [
      "Pinyin: ta de qian dun yu kuai de aymg zi dou hsi zhuang hcu lai de\n",
      "Chinese: 他的千吨与快的鞍子都是合金合金来的\n",
      "\n",
      "\n"
     ]
    },
    {
     "name": "stderr",
     "output_type": "stream",
     "text": [
      " 98%|█████████▊| 53/54 [1:01:30<00:30, 30.33s/it]"
     ]
    },
    {
     "name": "stdout",
     "output_type": "stream",
     "text": [
      "Pinyin: fnag she xing cai liao zhu un ai fang u she de te shu rong qi ni\n",
      "Chinese: 帆纱性材料著云爱防雨纱的特点容启你\n",
      "\n",
      "\n"
     ]
    },
    {
     "name": "stderr",
     "output_type": "stream",
     "text": [
      "100%|██████████| 54/54 [1:01:55<00:00, 68.80s/it]"
     ]
    },
    {
     "name": "stdout",
     "output_type": "stream",
     "text": [
      "Pinyin: zi ong mou ji su ux xiao chuan chu you ren xi eu zhi ohu gao nian ji you ji ge nan sheng yi ebi kai chu\n",
      "Chinese: 自ONG某急救学校传出有人吸毒致昏老人及有几个男孩已被开除\n",
      "\n",
      "\n"
     ]
    },
    {
     "name": "stderr",
     "output_type": "stream",
     "text": [
      "\n"
     ]
    }
   ],
   "source": [
    "preds = []\n",
    "labels = []\n",
    "for sample in tqdm(eval_data.to_dict(orient=\"records\")):\n",
    "    input_text = \"拼音转中文：\" + sample[\"Pinyin\"]\n",
    "    input_ids = tokenizer(input_text, return_tensors=\"pt\", padding=\"longest\", truncation=True)[\"input_ids\"]\n",
    "    input_ids = torch.LongTensor(input_ids).view(1, -1).to(model.device)\n",
    "    generated_ids = model.generate(\n",
    "        input_ids,\n",
    "        max_new_tokens=64,\n",
    "        num_beams=4,  # new\n",
    "        early_stopping=True,  # new\n",
    "        num_return_sequences=1,  # new\n",
    "    )\n",
    "    pred = tokenizer.decode(generated_ids[0], skip_special_tokens=True)\n",
    "    print(f\"Pinyin: \" + sample[\"Pinyin\"] + \"\\nChinese: \" + pred + \"\\n\\n\")\n",
    "    preds.append(pred.strip())\n",
    "    labels.append(sample[\"Chinese\"].strip())"
   ]
  },
  {
   "cell_type": "code",
   "execution_count": 39,
   "metadata": {},
   "outputs": [
    {
     "data": {
      "text/plain": [
       "{'char_accuracy': 0.38729763387297633,\n",
       " 'bleu': 0.28616623958361564,\n",
       " 'chrf': 24.7365429284862,\n",
       " 'rouge1': np.float64(0.018518518518518517),\n",
       " 'rouge2': np.float64(0.018518518518518517),\n",
       " 'rougeL': np.float64(0.018518518518518517),\n",
       " 'predictions': ['他拒绝拿他的同意开案小',\n",
       "  '如果遇机会我将去看那部电影',\n",
       "  '从这个教父来慷慨捐献的女子面爱为小',\n",
       "  '他送我的酒精品喝小而且比之前',\n",
       "  '这本书是他以前写的黑板的枯燥',\n",
       "  '我们真得出于困扰没人照古英而',\n",
       "  '她是护士一学教可护',\n",
       "  '呕呕一点儿的呕',\n",
       "  '丑陋是一桩自然现象',\n",
       "  '五十年代是大规模人群时期',\n",
       "  '机器生产已中断带起了腐朽老鼠',\n",
       "  '老子钻破箱间乌云在大量毛掸',\n",
       "  '抠爬我的房间感觉很差劲地我拥一米路',\n",
       "  '草上挤满了路柱',\n",
       "  '财政不原则怂恿诽谤对恶性提议',\n",
       "  '赞助者的通告已是为马克斯解决巴金问题的第一步',\n",
       "  '我更加依依风筝中其实热回心',\n",
       "  '一名废徒在街上挥洒时断引人呼救其与恶徒扼强击咽喉',\n",
       "  '乡村的田野里微微葱凝固',\n",
       "  '一平地时其均匀在一个平面黑砂或砾边布局',\n",
       "  '斯的外祖父来了',\n",
       "  '该条款难以入账',\n",
       "  '先程力耗油百而把时力',\n",
       "  '蒸汽汽车可以在亚硝酸泛微内掉头',\n",
       "  '我们眼前的那辆汽车突然转入迂回的车路上了',\n",
       "  '烟在空中掠过',\n",
       "  '我靠浮木浮羊面墙过火',\n",
       "  '腐烂的油烟船不腐烂或腐朽的天然气',\n",
       "  '通过管道把热水从过路输送氧酸热气',\n",
       "  '近五个小时他呕刺爱生安气细忘脑从他母亲那弄点钱',\n",
       "  '飞机每小时900公里的速度雷霆',\n",
       "  '埃克把瓦红海的一个海湾杂耍难搬到几沙特阿拉伯斯比布之间他操纵起来在造船具有重要的战略性',\n",
       "  '他呕但不成热反酸之物其词',\n",
       "  '词诗编纂者必须简语给词语下定义的句子',\n",
       "  '峡谷山口一纵横地不平坦dw之成圆形的湖山坝发湖形恒的沙漠绵绵的地瓦地',\n",
       "  '你应该对傲慢地走走以增高见识',\n",
       "  '呕丁带阴涕的用于恶涕',\n",
       "  '我对电量恶劣保养很在乎',\n",
       "  '他无行查没有意识到粗刺热危险',\n",
       "  '石有树出鱼夹鱼鳍洞结石有湖出鸡盖看长',\n",
       "  '原子电流是核内的铀基氮最近原子的大小是原子无原',\n",
       "  '有毒发出热烈的雷吼',\n",
       "  '这幅长耸约来惟引起注意',\n",
       "  '黑家一间会盛藏粗茶里掉不止为去',\n",
       "  '我在墙上钉了一个图印然后凹三角面画了一张小图片',\n",
       "  '他颤抖得叫嚷没礼',\n",
       "  '躲把日记所遗上层抽体里',\n",
       "  '人们紧绷脑袋讨论决定迁往纽约',\n",
       "  '烟雾在等起的时候去摆如此重要的事情',\n",
       "  '公爵被那个动物的模述时头托带到L一个黄阿斯玛',\n",
       "  '我满都喜感与所受的教养',\n",
       "  '他的千吨与快的鞍子都是合金合金来的',\n",
       "  '帆纱性材料著云爱防雨纱的特点容启你',\n",
       "  '自ONG某急救学校传出有人吸毒致昏老人及有几个男孩已被开除'],\n",
       " 'references': ['他喜欢拿他的同学开玩笑',\n",
       "  '如果有机会我将去看那部电影',\n",
       "  '从这个角度来看画中的女子面带微笑',\n",
       "  '她送我的纪念品很小而且不值钱',\n",
       "  '这本书是他以前写的剧本的扩充',\n",
       "  '我们真的处于困境没人照顾婴儿',\n",
       "  '她是活的医学教科书',\n",
       "  '我懂一点儿德语',\n",
       "  '磁力是一种自然现象',\n",
       "  '七十年代是超短裙时代',\n",
       "  '机器生产已经代替了手工劳作',\n",
       "  '劳资双方之间存在大量矛盾',\n",
       "  '恐怕我的方位感很差因此我容易迷路',\n",
       "  '草上沾满了露珠',\n",
       "  '财政部原则上反对这些提议',\n",
       "  '政府的通告已视为迈向解决罢工问题的一步',\n",
       "  '我正写一封郑重其事的回信',\n",
       "  '一名匪徒在街上制造事端引人注目其余匪徒则抢劫银行',\n",
       "  '乡村的田野里阡陌纵横',\n",
       "  '齐平地使其均匀在一个平面上或留边排版',\n",
       "  '我的外祖父要来了',\n",
       "  '该条款内容如下',\n",
       "  '县城离这有百儿八十里',\n",
       "  '这种汽车可以在自身长度范围内掉头',\n",
       "  '我们前面的那辆汽车突然转入左边的小路上去了',\n",
       "  '燕子在空中掠过',\n",
       "  '我靠父母扶养勉强过活',\n",
       "  '腐败的原因传布腐败或腐朽的根源',\n",
       "  '通过管道把热水从锅炉输送到散热器里',\n",
       "  '连续几个小时她都在唉声叹气希望能从她母亲那弄点钱',\n",
       "  '飞机以每小时900公里的速度飞行',\n",
       "  '阿克巴湾红海的一个海湾在西奈半岛及沙特阿拉伯西北部之间它长期以来在中东具有重要的战略性',\n",
       "  '他不但不承认反而支吾其词',\n",
       "  '词书编纂者必须精於给词语下定义的技巧',\n",
       "  '小火山口一种底部平坦大致呈圆形的火山爆发后形成的盛满水的低洼地',\n",
       "  '你应该多到各地走走以增广见识',\n",
       "  '不定代名词的用于代词',\n",
       "  '我对电脑的维修保养很在行',\n",
       "  '他悟性差没有意识到存在的危险',\n",
       "  '石油输出国家组织冻结石油输出价格看涨',\n",
       "  '日本的确是个美丽的国家但最近日本的大都市已被污染',\n",
       "  '油灯发出柔和的亮光',\n",
       "  '这故障数月来未引起注意',\n",
       "  '市价已见回升仓促处理掉不足为取',\n",
       "  '我在墙上钉了一个图钉然后在上面挂了一张小图片',\n",
       "  '她长得娇柔美丽',\n",
       "  '他把日记锁在上层抽屉里',\n",
       "  '我们经充分讨论决定迁往牛津',\n",
       "  '请勿在生气的时候去办如此重要的事情',\n",
       "  '公主被那个可恶的魔术师偷偷带到了一个荒岛上',\n",
       "  '我们都习惯於所受的教养',\n",
       "  '他的谦逊愉快的样子都是装出来的',\n",
       "  '放射性材料贮存在防辐射的特殊容器内',\n",
       "  '自从某寄宿学校传出有人吸毒之後高年级有几个男生已被开除']}"
      ]
     },
     "execution_count": 39,
     "metadata": {},
     "output_type": "execute_result"
    }
   ],
   "source": [
    "def space_chars(text):\n",
    "    return \" \".join(list(text.strip()))\n",
    "\n",
    "char_correct = 0\n",
    "char_total = 0\n",
    "for pred, label in zip(preds, labels):\n",
    "    char_total += len(label)\n",
    "    char_correct += sum(p == l for p, l in zip(pred, label))\n",
    "char_accuracy = char_correct / char_total if char_total > 0 else 0.0\n",
    "\n",
    "spaced_preds = [space_chars(p) for p in preds]\n",
    "spaced_labels = [space_chars(l) for l in labels]\n",
    "\n",
    "bleu_result = bleu.compute(predictions=spaced_preds, references=[[l] for l in spaced_labels])\n",
    "chrf_result = chrf.compute(predictions=spaced_preds, references=[[l] for l in spaced_labels])\n",
    "rouge_result = rouge.compute(predictions=spaced_preds, references=spaced_labels, use_stemmer=False)\n",
    "\n",
    "results = {\n",
    "    \"char_accuracy\": char_accuracy,\n",
    "    \"bleu\": bleu_result[\"bleu\"],\n",
    "    \"chrf\": chrf_result[\"score\"],\n",
    "    \"rouge1\": rouge_result[\"rouge1\"],\n",
    "    \"rouge2\": rouge_result[\"rouge2\"],\n",
    "    \"rougeL\": rouge_result[\"rougeL\"],\n",
    "    \"predictions\": preds,\n",
    "    \"references\": labels\n",
    "}\n",
    "\n",
    "results"
   ]
  }
 ],
 "metadata": {
  "kernelspec": {
   "display_name": "venv",
   "language": "python",
   "name": "python3"
  },
  "language_info": {
   "codemirror_mode": {
    "name": "ipython",
    "version": 3
   },
   "file_extension": ".py",
   "mimetype": "text/x-python",
   "name": "python",
   "nbconvert_exporter": "python",
   "pygments_lexer": "ipython3",
   "version": "3.10.8"
  }
 },
 "nbformat": 4,
 "nbformat_minor": 2
}
